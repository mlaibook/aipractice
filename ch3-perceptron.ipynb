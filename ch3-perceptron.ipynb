{
 "cells": [
  {
   "cell_type": "markdown",
   "id": "bab8f282",
   "metadata": {},
   "source": [
    "# 神经元和感知机"
   ]
  },
  {
   "cell_type": "code",
   "execution_count": 1,
   "id": "a072a383",
   "metadata": {},
   "outputs": [],
   "source": [
    "import numpy\n",
    "\n",
    "class Perceptron(object):\n",
    "    def __init__(self, input_size, alpha, n_iter):\n",
    "        # 产生长度为(input_size + 1)的随机向量作为初始权重\n",
    "        # 将bias视作最后一个权重\n",
    "        # 随机值取在[0,1]区间上，减去0.5使随机值的期望变成0\n",
    "        # 即初始权重是0附近的小随机数\n",
    "        self.weight = numpy.random.rand(input_size + 1) - 0.5\n",
    "        # 学习率\n",
    "        self.alpha = alpha\n",
    "        # 迭代次数\n",
    "        self.n_iter = n_iter\n",
    "\n",
    "    # 感知机的计算过程\n",
    "    def predict(self, X):\n",
    "        # 在每一行数据之后增加一列常量1\n",
    "        # 该常量与最后一个权重相乘作为bias\n",
    "        # 这样我们就不需要单独处理bias\n",
    "        # 参数((0,0),(0,1))中，\n",
    "        # 第一组(0,0)表示在第一维（行）前后不补齐数据\n",
    "        # 第二组(0,1)表示在第二维（列）之前不补齐数据，在之后补齐1列\n",
    "        # 补齐方式是'constant'即常量，常量值为1\n",
    "        X = numpy.pad(X, ((0,0),(0,1)), 'constant', constant_values=1)\n",
    "        # 然后将X和权重做矩阵乘法\n",
    "        Y = numpy.matmul(X, self.weight)\n",
    "        # 输出经过激活函数后得到的值\n",
    "        return self.sigmoid(Y)\n",
    "\n",
    "    def sigmoid(self, X):\n",
    "        return 1 / (1 + numpy.exp(-X))\n",
    "\n",
    "    # 感知机的训练过程\n",
    "    def fit(self, X, Y):\n",
    "        # 仍然要处理输入，增加一列常量1\n",
    "        X = numpy.pad(X, ((0,0),(0,1)), 'constant', constant_values=1)\n",
    "        Y = numpy.array(Y)\n",
    "        # 重复n_ter次训练过程\n",
    "        for i in range(self.n_iter):\n",
    "            # 计算当前输出\n",
    "            y = self.sigmoid(numpy.matmul(X, self.weight))\n",
    "            # 计算权值更新\n",
    "            # 将输出偏差整形为列向量，以便与输入对应行相乘\n",
    "            delta_y = numpy.reshape(Y - y, (-1,1))\n",
    "            # 这是激活函数的导数部分\n",
    "            deriv_y = numpy.reshape(y*(1-y), (-1,1))\n",
    "            # 注意下面是每行对应相乘，而不是矩阵乘法\n",
    "            # 这样我们实际上对每一行数据都得到了对应的权值更新量\n",
    "            delta_w = delta_y * deriv_y* X * self.alpha\n",
    "            # 由于我们批量计算出了所有样本产生的权值更新量\n",
    "            # 因此，我们需要把权值更新量进行平均\n",
    "            # 对所有样本进行平均，因此取平均值的维度是第一维\n",
    "            delta_w = numpy.mean(delta_w, axis=0)\n",
    "            # 然后更新权值\n",
    "            self.weight = self.weight + delta_w\n",
    "            # 输出平均误差，帮助我们观察训练的过程\n",
    "            print('第{0}轮误差为: {1}'.format(\n",
    "                i, numpy.mean(numpy.power(delta_y, 2))))\n"
   ]
  },
  {
   "cell_type": "code",
   "execution_count": 2,
   "id": "7df968e6",
   "metadata": {},
   "outputs": [
    {
     "name": "stdout",
     "output_type": "stream",
     "text": [
      "第0轮误差为: 0.3659098120161016\n",
      "第1轮误差为: 0.32579818723348225\n",
      "第2轮误差为: 0.28275665841971165\n",
      "第3轮误差为: 0.2504991829997515\n",
      "第4轮误差为: 0.23298230040863663\n",
      "第5轮误差为: 0.22296664948161826\n",
      "第6轮误差为: 0.21540357428722023\n",
      "第7轮误差为: 0.2086401306664597\n",
      "第8轮误差为: 0.20223305127711688\n",
      "第9轮误差为: 0.19606838032601476\n",
      "第10轮误差为: 0.19011690034384535\n",
      "第11轮误差为: 0.1843701873355034\n",
      "第12轮误差为: 0.17882425128237953\n",
      "第13轮误差为: 0.1734755454939323\n",
      "第14轮误差为: 0.16832011906458325\n",
      "第15轮误差为: 0.16335352826277846\n",
      "第16轮误差为: 0.1585709102490531\n",
      "第17轮误差为: 0.15396707840265716\n",
      "第18轮误差为: 0.14953660982026093\n",
      "第19轮误差为: 0.14527392079736137\n",
      "第20轮误差为: 0.14117333105947452\n",
      "第21轮误差为: 0.137229118124906\n",
      "第22轮误差为: 0.13343556304574677\n",
      "第23轮误差为: 0.1297869885917195\n",
      "第24轮误差为: 0.12627779080476323\n",
      "第25轮误差为: 0.12290246475003015\n",
      "第26轮误差为: 0.11965562520540496\n",
      "第27轮误差为: 0.11653202295790019\n",
      "第28轮误差为: 0.11352655730749008\n",
      "第29轮误差为: 0.11063428531576752\n",
      "第30轮误差为: 0.10785042827789769\n",
      "第31轮误差为: 0.10517037584170776\n",
      "第32轮误差为: 0.10258968814744025\n",
      "第33轮误差为: 0.10010409631572285\n",
      "第34轮误差为: 0.09770950156959626\n",
      "第35轮误差为: 0.09540197323885238\n",
      "第36轮误差为: 0.09317774586126994\n",
      "第37轮误差为: 0.091033215565356\n",
      "第38轮误差为: 0.0889649358926437\n",
      "第39轮误差为: 0.0869696131941832\n",
      "第40轮误差为: 0.08504410171531607\n",
      "第41轮误差为: 0.08318539846486728\n",
      "第42轮误差为: 0.08139063794926418\n",
      "第43轮误差为: 0.0796570868385433\n",
      "第44轮误差为: 0.07798213861950988\n",
      "第45轮误差为: 0.07636330828124846\n",
      "第46轮误差为: 0.07479822706955958\n",
      "第47轮误差为: 0.07328463733953117\n",
      "第48轮误差为: 0.07182038752919313\n",
      "第49轮误差为: 0.07040342727189847\n",
      "第50轮误差为: 0.06903180266060603\n",
      "第51轮误差为: 0.06770365167348785\n",
      "第52轮误差为: 0.06641719976715502\n",
      "第53轮误差为: 0.06517075564119984\n",
      "第54轮误差为: 0.06396270717561418\n",
      "第55轮误差为: 0.06279151754089568\n",
      "第56轮误差为: 0.061655721479239436\n",
      "第57轮误差为: 0.06055392175408178\n",
      "第58轮误差为: 0.05948478576437013\n",
      "第59轮误差为: 0.058447042319242457\n",
      "第60轮误差为: 0.057439478568280175\n",
      "第61轮误差为: 0.056460937082118974\n",
      "第62轮误差为: 0.05551031307794095\n",
      "第63轮误差为: 0.054586551784209965\n",
      "第64轮误差为: 0.05368864593892776\n",
      "第65轮误差为: 0.05281563341567273\n",
      "第66轮误差为: 0.051966594971719265\n",
      "第67轮误差为: 0.05114065211261375\n",
      "第68轮误差为: 0.050336965067696915\n",
      "第69轮误差为: 0.049554730871198924\n",
      "第70轮误差为: 0.048793181543694136\n",
      "第71轮误差为: 0.04805158236887275\n",
      "第72轮误差为: 0.04732923026077196\n",
      "第73轮误差为: 0.046625452216796634\n",
      "第74轮误差为: 0.04593960385205416\n",
      "第75轮误差为: 0.0452710680107218\n",
      "第76轮误差为: 0.044619253450357846\n",
      "第77轮误差为: 0.04398359359526022\n",
      "第78轮误差为: 0.043363545355162375\n",
      "第79轮误差为: 0.042758588005740075\n",
      "第80轮误差为: 0.04216822212757988\n",
      "第81轮误差为: 0.041591968600432294\n",
      "第82轮误差为: 0.041029367649737504\n",
      "第83轮误差为: 0.04047997794257129\n",
      "第84轮误差为: 0.039943375730310586\n",
      "第85轮误差为: 0.039419154035464636\n",
      "第86轮误差为: 0.038906921880255595\n",
      "第87轮误差为: 0.038406303554666316\n",
      "第88轮误差为: 0.037916937921798156\n",
      "第89轮误差为: 0.037438477758501496\n",
      "第90轮误差为: 0.036970589129355406\n",
      "第91轮误差为: 0.036512950792180934\n",
      "第92轮误差为: 0.0360652536333733\n",
      "第93轮误差为: 0.03562720013143594\n",
      "第94轮误差为: 0.035198503847189984\n",
      "第95轮误差为: 0.03477888893921889\n",
      "第96轮误差为: 0.03436808970318931\n",
      "第97轮误差为: 0.03396585013376649\n",
      "第98轮误差为: 0.03357192350791435\n",
      "第99轮误差为: 0.03318607198843941\n",
      "[0.72850061 0.23280043]\n",
      "[-1.53206995  1.23722131  0.6343532 ]\n"
     ]
    }
   ],
   "source": [
    "perceptron = Perceptron(2, 0.5, 100)\n",
    "perceptron.fit([[1,2],[2,3],[4,3],[3,2]],[1,1,0,0])\n",
    "print(perceptron.predict([[3,4],[2,1]]))\n",
    "# 输出样例：[0.72107778 0.24065793]\n",
    "# 表明感知机区分出了两个输入数字的大小差别\n",
    "print(perceptron.weight)\n",
    "# 输出样例：[-1.53422978  1.15957956  0.84045471]\n",
    "# 这说明感知机输出0.5的位置是直线：-1.53 x_1 + 1.16 x_2  + 0.84 = 0\n"
   ]
  },
  {
   "cell_type": "markdown",
   "id": "c6255149",
   "metadata": {},
   "source": [
    "## 识别手写数字"
   ]
  },
  {
   "cell_type": "code",
   "execution_count": 3,
   "id": "142bfa30",
   "metadata": {},
   "outputs": [
    {
     "data": {
      "image/png": "[encoded data removed]",
      "text/plain": [
       "<Figure size 432x288 with 10 Axes>"
      ]
     },
     "metadata": {
      "needs_background": "light"
     },
     "output_type": "display_data"
    }
   ],
   "source": [
    "import matplotlib.pyplot as plt\n",
    "from sklearn.datasets import load_digits\n",
    "\n",
    "# 加载UCI手写数字数据集\n",
    "digits = load_digits()\n",
    "for i in range(10):\n",
    "    # 显示1行10列中的第i+1个图\n",
    "    plt.subplot(1,10,i+1)\n",
    "    plt.imshow(digits.images[i])\n",
    "    # 隐藏坐标轴刻度\n",
    "    plt.axis('off')\n",
    "plt.show() "
   ]
  },
  {
   "cell_type": "code",
   "execution_count": 4,
   "id": "e0ab3ed1",
   "metadata": {},
   "outputs": [
    {
     "data": {
      "text/plain": [
       "Perceptron(eta0=1)"
      ]
     },
     "execution_count": 4,
     "metadata": {},
     "output_type": "execute_result"
    }
   ],
   "source": [
    "from sklearn.linear_model import Perceptron\n",
    "from sklearn.datasets import load_digits\n",
    "\n",
    "# X是1797行、64列的矩阵\n",
    "# 每一行是一个手写数字样本\n",
    "# 图像中的像素被拉平展开为长度64的行向量\n",
    "# y是长度为1797的数组，包含样本对应的数字值\n",
    "X, y = load_digits(return_X_y=True)\n",
    "\n",
    "# 创建感知机模型\n",
    "# max_iter是最大迭代次数\n",
    "# tol参数可以控制当误差不在减小时提前结束训练\n",
    "# 当本轮误差减去前一轮的差值大于tol时，结束训练\n",
    "# eta0是学习率\n",
    "perceptron = Perceptron(max_iter=1000, tol=0.001, eta0=1)\n",
    "\n",
    "# 与我们实现的感知机模型的训练方法略有不同\n",
    "# 这里y值表示样本的类别\n",
    "# 根据y中不同值的数量（也就是类别数量）分别建立若干感知机\n",
    "perceptron.fit(X, y)"
   ]
  },
  {
   "cell_type": "code",
   "execution_count": 5,
   "id": "04dc3501",
   "metadata": {},
   "outputs": [
    {
     "data": {
      "image/png": "[encoded data removed]",
      "text/plain": [
       "<Figure size 432x288 with 10 Axes>"
      ]
     },
     "metadata": {
      "needs_background": "light"
     },
     "output_type": "display_data"
    }
   ],
   "source": [
    "import numpy\n",
    "import matplotlib.pyplot as plt\n",
    "\n",
    "for i in range(10):\n",
    "    # 显示1行10列中的第i+1个图\n",
    "    plt.subplot(1,10,i+1)\n",
    "    # 显示第i个类别对应的感知机权值\n",
    "    # 将权值向量整形为矩阵以和输入图像像素位置对应\n",
    "    plt.imshow(numpy.reshape(perceptron.coef_[i,:], (8,8)),\n",
    "        cmap=plt.cm.RdBu)\n",
    "    # 隐藏坐标轴刻度\n",
    "    plt.axis('off')\n",
    "plt.show()\n"
   ]
  },
  {
   "cell_type": "code",
   "execution_count": 6,
   "id": "d3cdfff8",
   "metadata": {},
   "outputs": [
    {
     "name": "stdout",
     "output_type": "stream",
     "text": [
      "['0.98', '0.00', '0.00', '0.00', '0.02', '0.00', '0.00', '0.00', '0.00', '0.03']\n",
      "['0.00', '1.00', '0.23', '0.04', '0.07', '0.71', '0.15', '0.00', '0.00', '0.05']\n",
      "['0.01', '0.00', '0.96', '0.00', '0.00', '0.00', '0.00', '0.01', '0.01', '0.00']\n",
      "['0.00', '0.00', '0.00', '1.00', '0.00', '0.06', '0.00', '0.00', '0.00', '0.00']\n",
      "['0.00', '0.01', '0.00', '0.00', '0.99', '0.00', '0.01', '0.01', '0.00', '0.00']\n",
      "['0.00', '0.00', '0.00', '0.01', '0.00', '0.02', '0.00', '0.00', '0.00', '0.02']\n",
      "['0.00', '0.00', '0.00', '0.00', '0.01', '0.00', '0.76', '0.00', '0.00', '0.00']\n",
      "['0.01', '0.00', '0.00', '0.00', '0.00', '0.00', '0.00', '0.99', '0.00', '0.00']\n",
      "['0.00', '0.00', '0.00', '0.00', '0.01', '0.00', '0.04', '0.00', '0.97', '0.00']\n",
      "['0.01', '0.00', '0.00', '0.00', '0.00', '0.12', '0.00', '0.00', '0.00', '0.80']\n"
     ]
    }
   ],
   "source": [
    "import numpy\n",
    "\n",
    "# 取数据集的前十个样本验证感知机的输出\n",
    "# 感知机的权值，每行表示一个感知机的权值\n",
    "w = perceptron.coef_\n",
    "# 感知机的偏置，列向量，每行表示一个感知机的偏置\n",
    "b = perceptron.intercept_\n",
    "# 对数据集的前10个样本，计算每个感知机的输出\n",
    "# 将数据转置，每列表示一个样本\n",
    "x = numpy.transpose(X[0:10,:])\n",
    "out = numpy.matmul(w, x) + b\n",
    "# 由于输出太接近0或者1，我们进行了缩放，以显示差异\n",
    "out = 1 / (1 + numpy.exp(-out/1000))\n",
    "for i in range(10):\n",
    "    print(list(map(lambda x: '{0:.2f}'.format(x), out[i,:])))\n"
   ]
  },
  {
   "cell_type": "code",
   "execution_count": null,
   "id": "d0b79b90",
   "metadata": {},
   "outputs": [],
   "source": []
  }
 ],
 "metadata": {
  "kernelspec": {
   "display_name": "Python 3 (ipykernel)",
   "language": "python",
   "name": "python3"
  },
  "language_info": {
   "codemirror_mode": {
    "name": "ipython",
    "version": 3
   },
   "file_extension": ".py",
   "mimetype": "text/x-python",
   "name": "python",
   "nbconvert_exporter": "python",
   "pygments_lexer": "ipython3",
   "version": "3.8.9"
  }
 },
 "nbformat": 4,
 "nbformat_minor": 5
}
