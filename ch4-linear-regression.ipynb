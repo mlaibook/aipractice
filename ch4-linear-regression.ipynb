{
 "cells": [
  {
   "cell_type": "markdown",
   "id": "ed7486ab",
   "metadata": {},
   "source": [
    "# 线性回归"
   ]
  },
  {
   "cell_type": "code",
   "execution_count": 3,
   "id": "a2b44f89",
   "metadata": {},
   "outputs": [],
   "source": [
    "import numpy\n",
    "\n",
    "# 准备餐厅套餐价格数据\n",
    "# 每行为一条数据\n",
    "# 各列分别是座位数量、食材价格、员工薪资和套餐价格\n",
    "food_price_data = numpy.array([\n",
    "    [100, 7.2, 3000, 20],\n",
    "    [120, 7.3, 3500, 21],\n",
    "    [500, 7.2, 3100, 18],\n",
    "    [80, 6.5, 2900, 17],\n",
    "    [80, 7.9, 4500, 25],\n",
    "    [500, 7.0, 3000, 16],\n",
    "    [250, 7.2, 3100, 19],\n",
    "    [250, 7.5, 4000, 22],\n",
    "    [150, 7.8, 5000, 24],\n",
    "    [300, 7.2, 3500, 20],\n",
    "    [400, 7.1, 3200, 18],\n",
    "    [200, 7.3, 3600, 21]\n",
    "], dtype=numpy.float64)"
   ]
  },
  {
   "cell_type": "code",
   "execution_count": 4,
   "id": "9959bb85",
   "metadata": {},
   "outputs": [],
   "source": [
    "# 自变量维度为1的线性回归\n",
    "# 输入自变量x，因变量y\n",
    "def linear_regression_single_dimension(x, y):\n",
    "    # 计算样本数量\n",
    "    n = len(x)\n",
    "    # 计算x的和\n",
    "    sum_x = numpy.sum(x)\n",
    "    # 计算y的和\n",
    "    sum_y = numpy.sum(y)\n",
    "    # 计算x方平的和\n",
    "    sum_xx = numpy.sum(x * x)\n",
    "    # 计算xy乘积的和\n",
    "    sum_xy = numpy.sum(x * y)\n",
    "    # 计算参数\n",
    "    w = (sum_x*sum_y - n*sum_xy)/(sum_x*sum_x - n*sum_xx)\n",
    "    b = (sum_y - w*sum_x)/n\n",
    "    return w, b"
   ]
  },
  {
   "cell_type": "code",
   "execution_count": 5,
   "id": "247e8a69",
   "metadata": {},
   "outputs": [
    {
     "name": "stdout",
     "output_type": "stream",
     "text": [
      "(-0.010467620118913707, 22.639177245701433)\n"
     ]
    }
   ],
   "source": [
    "print(linear_regression_single_dimension(\n",
    "    food_price_data[:,0],\n",
    "    food_price_data[:,3]))\n",
    "# 输出：(-0.010467620118913707, 22.639177245701433)\n",
    "# 表示 预测套餐价格 约等于 -0.01 * 座位数量 + 22.64\n"
   ]
  },
  {
   "cell_type": "code",
   "execution_count": 7,
   "id": "734d5797",
   "metadata": {},
   "outputs": [
    {
     "name": "stdout",
     "output_type": "stream",
     "text": [
      "[[-1.04676201e-02]\n",
      " [ 2.26391772e+01]]\n"
     ]
    }
   ],
   "source": [
    "# 最小二乘法\n",
    "# 计算 w = (X^T X)^-1 X^T y\n",
    "# X^T 表示X的转置\n",
    "# ()^-1 表示求逆矩阵\n",
    "def least_square(X, y):\n",
    "    # 确保y是列向量\n",
    "    y = numpy.array(y).reshape([-1,1])\n",
    "    # 计算X的转置\n",
    "    XT = numpy.transpose(X)\n",
    "    # 计算逆矩阵\n",
    "    XTX_inv = numpy.linalg.inv(numpy.matmul(XT, X))\n",
    "    w = numpy.matmul(XTX_inv, numpy.matmul(XT, y))\n",
    "    return w\n",
    "\n",
    "# 多维线性回归\n",
    "def linear_regression(X, y):\n",
    "    # 在矩阵X的右侧添加一列1\n",
    "    ones = numpy.ones((X.shape[0],1), dtype=y.dtype)\n",
    "    X = numpy.concatenate((X, ones), axis=1)\n",
    "    return least_square(X, y)\n",
    "\n",
    "print(linear_regression(\n",
    "    food_price_data[:,0:1],\n",
    "    food_price_data[:,3]))\n",
    "# 输出：\n",
    "# [[-1.04676201e-02]\n",
    "#  [ 2.26391772e+01]]"
   ]
  },
  {
   "cell_type": "code",
   "execution_count": 8,
   "id": "7cc5abe4",
   "metadata": {},
   "outputs": [
    {
     "name": "stdout",
     "output_type": "stream",
     "text": [
      "[[-6.55022066e-03]\n",
      " [ 4.72864843e+00]\n",
      " [ 8.69974343e-04]\n",
      " [-1.57527424e+01]]\n"
     ]
    }
   ],
   "source": [
    "print(linear_regression(\n",
    "    food_price_data[:,0:3],\n",
    "    food_price_data[:,3]))\n",
    "# 输出：\n",
    "# [[-6.55022066e-03]\n",
    "#  [ 4.72864843e+00]\n",
    "#  [ 8.69974343e-04]\n",
    "#  [-1.57527424e+01]]"
   ]
  },
  {
   "cell_type": "code",
   "execution_count": 9,
   "id": "d565dc93",
   "metadata": {},
   "outputs": [
    {
     "name": "stdout",
     "output_type": "stream",
     "text": [
      "自变量各维度对应的权重：[-6.55022066e-03  4.72864843e+00  8.69974343e-04]\n",
      "偏置：-15.75274237219256\n"
     ]
    }
   ],
   "source": [
    "from sklearn.linear_model import LinearRegression\n",
    "lr_model = LinearRegression()\n",
    "lr_model.fit(\n",
    "    food_price_data[:,0:3],\n",
    "    food_price_data[:,3])\n",
    "print('自变量各维度对应的权重：{}'.format(lr_model.coef_))\n",
    "print('偏置：{}'.format(lr_model.intercept_))\n",
    "# 输出：\n",
    "# 自变量各维度对应的权重：[-6.55022066e-03  4.72864843e+00  8.69974343e-04]\n",
    "# 偏置：-15.752742372192568"
   ]
  },
  {
   "cell_type": "markdown",
   "id": "0141279e",
   "metadata": {},
   "source": [
    "## 学习使用numpy"
   ]
  },
  {
   "cell_type": "code",
   "execution_count": 10,
   "id": "9d55335f",
   "metadata": {},
   "outputs": [
    {
     "name": "stdout",
     "output_type": "stream",
     "text": [
      "a的形状：(4,)，类型：int64\n",
      "b的形状：(2, 3)，类型：float64\n"
     ]
    }
   ],
   "source": [
    "import numpy\n",
    "\n",
    "a = numpy.array([1,2,3,4])\n",
    "b = numpy.array([[1.0,2.0,3.0],[4.0,5.0,6.0]])\n",
    "print('a的形状：{}，类型：{}'.format(a.shape, a.dtype))\n",
    "print('b的形状：{}，类型：{}'.format(b.shape, b.dtype))\n",
    "# 输出：\n",
    "# a的形状：(4,)，类型：int32\n",
    "# b的形状：(2, 3)，类型：float64"
   ]
  },
  {
   "cell_type": "code",
   "execution_count": 11,
   "id": "366a5631",
   "metadata": {},
   "outputs": [
    {
     "name": "stdout",
     "output_type": "stream",
     "text": [
      "[5 6 7 8]\n",
      "[ 3  7 11]\n",
      "[[ 1  2  3]\n",
      " [ 5  6  7]\n",
      " [ 9 10 11]]\n"
     ]
    }
   ],
   "source": [
    "a = numpy.array([[1,2,3,4],[5,6,7,8],[9,10,11,12]])\n",
    "# 取第2行（索引是1），所有列\n",
    "# 输出 [5 6 7 8]\n",
    "print(a[1,:])\n",
    "# 取第3列（索引是2），所有行\n",
    "# 输出 [3 7 11]\n",
    "print(a[:,2])\n",
    "# 取第1到3列（索引大于等于0，小于3），所有行\n",
    "# 输出 [[1 2 3][5 6 7][9 10 11]]\n",
    "print(a[:,0:3])"
   ]
  },
  {
   "cell_type": "code",
   "execution_count": 12,
   "id": "5a016631",
   "metadata": {},
   "outputs": [
    {
     "name": "stdout",
     "output_type": "stream",
     "text": [
      "[ 2  6 10]\n",
      "形状为(3,)\n",
      "[[ 2]\n",
      " [ 6]\n",
      " [10]]\n",
      "形状为(3, 1)\n"
     ]
    }
   ],
   "source": [
    "a = numpy.array([[1,2,3,4],[5,6,7,8],[9,10,11,12]])\n",
    "\n",
    "# 取第2列（索引是1），所有行，返回一维向量\n",
    "# 输出：[2 6 10] 形状为(3,)\n",
    "print(a[:,1])\n",
    "print('形状为{}'.format(a[:,1].shape))\n",
    "\n",
    "# 取第2列（索引是1），所有行，返回矩阵\n",
    "# 输出：\n",
    "# [[2]\n",
    "#  [6]\n",
    "#  [10]]\n",
    "# 形状为(3,1)\n",
    "print(a[:,1:2])\n",
    "print('形状为{}'.format(a[:,1:2].shape))\n"
   ]
  },
  {
   "cell_type": "code",
   "execution_count": 13,
   "id": "7d0c2e54",
   "metadata": {},
   "outputs": [
    {
     "name": "stdout",
     "output_type": "stream",
     "text": [
      "[[3 4 5]\n",
      " [6 7 8]]\n",
      "[[ 2  4  6]\n",
      " [ 8 10 12]]\n",
      "[[ 2  4  6]\n",
      " [ 8 10 12]]\n",
      "[[ 1  4  9]\n",
      " [16 25 36]]\n",
      "[[ 1  2  3]\n",
      " [ 8 10 12]]\n",
      "[[2 3 4]\n",
      " [6 7 8]]\n"
     ]
    }
   ],
   "source": [
    "a = numpy.array([[1,2,3],[4,5,6]])\n",
    "\n",
    "# 数组元素和标量分别运算\n",
    "# 输出：\n",
    "# [[3 4 5][6 7 8]]\n",
    "# [[2 4 6][8 10 12]]\n",
    "print(a + 2)\n",
    "print(a * 2)\n",
    "\n",
    "# 相同形状的数组间运算\n",
    "# 数组元素按照对应位置分别运算\n",
    "# 输出：\n",
    "# [[2 4 6][8 10 12]]\n",
    "# [[1 4 9][16 25 36]]\n",
    "print(a + a)\n",
    "print(a * a)\n",
    "\n",
    "# 不同形状的数组间运算\n",
    "# a的形状为(2,3)，b的形状为(2,1)\n",
    "# b的值被广播到3列于a进行运算\n",
    "# 相当于b=[[1,1,1],[2,2,2]]\n",
    "b = numpy.array([[1],[2]])\n",
    "# 输出：\n",
    "# [[1 2 3][8 10 12]]\n",
    "# [[2 3 4][6 7 8]]\n",
    "print(a * b)\n",
    "print(a + b)\n"
   ]
  },
  {
   "cell_type": "code",
   "execution_count": null,
   "id": "c74b9f2d",
   "metadata": {},
   "outputs": [],
   "source": []
  }
 ],
 "metadata": {
  "kernelspec": {
   "display_name": "Python 3 (ipykernel)",
   "language": "python",
   "name": "python3"
  },
  "language_info": {
   "codemirror_mode": {
    "name": "ipython",
    "version": 3
   },
   "file_extension": ".py",
   "mimetype": "text/x-python",
   "name": "python",
   "nbconvert_exporter": "python",
   "pygments_lexer": "ipython3",
   "version": "3.8.9"
  }
 },
 "nbformat": 4,
 "nbformat_minor": 5
}
