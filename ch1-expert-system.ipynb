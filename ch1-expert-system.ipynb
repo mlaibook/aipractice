{
 "cells": [
  {
   "cell_type": "markdown",
   "id": "baf24d7d",
   "metadata": {},
   "source": [
    "# 实现简化的专家系统"
   ]
  },
  {
   "cell_type": "code",
   "execution_count": 3,
   "id": "3b079ad2",
   "metadata": {},
   "outputs": [],
   "source": [
    "# 定义产生式规则\n",
    "rules = ['有羽毛 => 鸟类',\n",
    "    '产乳 => 哺乳动物',\n",
    "    '鸟类 and 会飞行 => 飞禽',\n",
    "    '飞禽 and 脖子长 => 仙鹤',\n",
    "    '哺乳动物 and 吃草 => 食草动物',\n",
    "    '食草动物 and 脖子长 => 长颈鹿']\n",
    "\n",
    "# 解析规则\n",
    "def parse_rules(rules):\n",
    "    parsed_rules = []\n",
    "    for rule in rules:\n",
    "        conditions, result = rule.split(' => ')\n",
    "        conditions = conditions.split(' and ')\n",
    "        parsed_rules.append((conditions, result))\n",
    "    return parsed_rules"
   ]
  },
  {
   "cell_type": "code",
   "execution_count": 4,
   "id": "c27222a0",
   "metadata": {},
   "outputs": [
    {
     "name": "stdout",
     "output_type": "stream",
     "text": [
      "鸟类\n",
      "飞禽\n",
      "仙鹤\n"
     ]
    }
   ],
   "source": [
    "# 正向推理过程，以规则和事实为输入\n",
    "def forward_chain(rules, facts):\n",
    "    has_new_fact = True\n",
    "    # 如果有新的事实产生\n",
    "    # 就可以不断重复正向推理的过程\n",
    "    while has_new_fact:\n",
    "        has_new_fact = False\n",
    "        for rule in rules:\n",
    "            # 检查前置条件是否都在已知事实之中\n",
    "            condition_met = all([x in facts for x in rule[0]])\n",
    "            if not condition_met: continue\n",
    "            has_new_fact = rule[1] not in facts\n",
    "            # 如果可以推出新的事实，把它打印出来\n",
    "            if has_new_fact:\n",
    "                facts.append(rule[1])\n",
    "                print(rule[1])\n",
    "                break\n",
    "\n",
    "forward_chain(parse_rules(rules), ['会飞行','有羽毛','脖子长'])"
   ]
  },
  {
   "cell_type": "code",
   "execution_count": 5,
   "id": "db75058f",
   "metadata": {},
   "outputs": [
    {
     "name": "stdout",
     "output_type": "stream",
     "text": [
      "产乳?\n",
      "吃草?\n"
     ]
    }
   ],
   "source": [
    "# 反向推理过程，以规则、事实和假设的目标为输入\n",
    "def backward_chain(rules, facts, hypo):\n",
    "    # 如果假设已经在事实之中，可以终止推理\n",
    "    if hypo in facts: return\n",
    "    some_rule_applies = False\n",
    "    for rule in rules:\n",
    "        if rule[1] != hypo: continue\n",
    "        some_rule_applies = True\n",
    "        condition_met = all([x in facts for x in rule[0]])\n",
    "        # 如果条件已经满足，可以终止推理\n",
    "        if condition_met:\n",
    "            facts.append(rule[1])\n",
    "            return\n",
    "        # 否则，递归检查不满足的条件\n",
    "        for fact in rule[0]:\n",
    "            if fact in facts: continue\n",
    "            backward_chain(rules, facts, fact)\n",
    "    # 如果没有任何规则可以应用，需要像用户求证假设\n",
    "    if not some_rule_applies:\n",
    "        print('{0}?'.format(hypo))\n",
    "\n",
    "backward_chain(parse_rules(rules), ['脖子长'], '长颈鹿')"
   ]
  }
 ],
 "metadata": {
  "kernelspec": {
   "display_name": "Python 3 (ipykernel)",
   "language": "python",
   "name": "python3"
  },
  "language_info": {
   "codemirror_mode": {
    "name": "ipython",
    "version": 3
   },
   "file_extension": ".py",
   "mimetype": "text/x-python",
   "name": "python",
   "nbconvert_exporter": "python",
   "pygments_lexer": "ipython3",
   "version": "3.8.9"
  }
 },
 "nbformat": 4,
 "nbformat_minor": 5
}
