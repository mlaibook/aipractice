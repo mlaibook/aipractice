{
 "cells": [
  {
   "cell_type": "markdown",
   "id": "389cec4c",
   "metadata": {},
   "source": [
    "# 逻辑斯蒂回归和分类器"
   ]
  },
  {
   "cell_type": "code",
   "execution_count": 1,
   "id": "1b8410ac",
   "metadata": {},
   "outputs": [
    {
     "name": "stdout",
     "output_type": "stream",
     "text": [
      "0.0\n"
     ]
    }
   ],
   "source": [
    "import numpy\n",
    "from sklearn import datasets\n",
    "from sklearn.linear_model import LogisticRegression\n",
    "\n",
    "# 加载鸢尾花数据集\n",
    "iris = datasets.load_iris()\n",
    "# 只用类别0和类别1\n",
    "index = iris.target < 2\n",
    "# 只用花萼长度和花萼宽度这两个特征\n",
    "X = iris.data[index,:2]\n",
    "Y = iris.target[index]\n",
    "\n",
    "# 建立逻辑斯蒂回归模型\n",
    "classifier = LogisticRegression()\n",
    "classifier.fit(X, Y)\n",
    "\n",
    "# 计算分类正确率\n",
    "y = classifier.predict(X)\n",
    "error = numpy.mean(numpy.abs(y-Y))\n",
    "print(error)\n",
    "# 输出0.0，表示能够完全正确分类"
   ]
  },
  {
   "cell_type": "code",
   "execution_count": 3,
   "id": "d80e01be",
   "metadata": {},
   "outputs": [
    {
     "data": {
      "image/png": "[encoded data removed]",
      "text/plain": [
       "<Figure size 288x216 with 1 Axes>"
      ]
     },
     "metadata": {
      "needs_background": "light"
     },
     "output_type": "display_data"
    }
   ],
   "source": [
    "import matplotlib.pyplot as plt\n",
    "import numpy\n",
    "\n",
    "# 建立一个二维网格\n",
    "# 我们要计算所有网格点对应的预测值\n",
    "xx, yy = numpy.meshgrid(\n",
    "    numpy.arange(X[:,0].min()-0.5,X[:,0].max()+0.5,0.1),\n",
    "    numpy.arange(X[:,1].min()-0.5,X[:,1].max()+0.5,0.1))\n",
    "\n",
    "# 将网格点组织为二维输入样本\n",
    "input = numpy.concatenate(\n",
    "    (xx.reshape((-1,1)), yy.reshape((-1,1))), axis=1)\n",
    "\n",
    "# 计算出模型的预测结果\n",
    "# 然后组织为网格点对应的位置\n",
    "z = classifier.predict(input)\n",
    "z = z.reshape(xx.shape)\n",
    "\n",
    "# 将网格点的预测结果显示出来\n",
    "# 这样我们就可以观察到分类边界\n",
    "fig = plt.figure(figsize=(4, 3))\n",
    "plt.pcolormesh(xx, yy, z, cmap=plt.cm.Paired, shading='auto')\n",
    "\n",
    "# 同时叠加显示两个类别的样本点\n",
    "for i in range(2):\n",
    "    index = Y == i\n",
    "    mark = 'kx' if i == 0 else 'k+'\n",
    "    plt.plot(X[index,0], X[index,1], mark)\n",
    "\n",
    "plt.show()"
   ]
  },
  {
   "cell_type": "code",
   "execution_count": 4,
   "id": "05f20eea",
   "metadata": {},
   "outputs": [
    {
     "name": "stdout",
     "output_type": "stream",
     "text": [
      "[[ 3.0786959 -3.0220097]]\n",
      "[-7.30634549]\n"
     ]
    }
   ],
   "source": [
    "print(classifier.coef_)\n",
    "# 输出权值向量\n",
    "# [[ 3.0786959 -3.0220097]]\n",
    "print(classifier.intercept_)\n",
    "# 输出偏置参数\n",
    "# [-7.30634549]"
   ]
  },
  {
   "cell_type": "markdown",
   "id": "b5574c1e",
   "metadata": {},
   "source": [
    "## 支持向量机"
   ]
  },
  {
   "cell_type": "code",
   "execution_count": 5,
   "id": "b22dc981",
   "metadata": {},
   "outputs": [
    {
     "data": {
      "image/png": "[encoded data removed]",
      "text/plain": [
       "<Figure size 288x216 with 1 Axes>"
      ]
     },
     "metadata": {
      "needs_background": "light"
     },
     "output_type": "display_data"
    },
    {
     "data": {
      "image/png": "[encoded data removed]",
      "text/plain": [
       "<Figure size 288x216 with 1 Axes>"
      ]
     },
     "metadata": {
      "needs_background": "light"
     },
     "output_type": "display_data"
    }
   ],
   "source": [
    "import numpy\n",
    "import matplotlib.pyplot as plt\n",
    "from sklearn import svm, datasets\n",
    "\n",
    "# 加载鸢尾花数据集\n",
    "iris = datasets.load_iris()\n",
    "index = iris.target < 2\n",
    "X = iris.data[index,:2]\n",
    "Y = iris.target[index]\n",
    "\n",
    "# 创建两个支持向量机，分别采用线性核与高斯核\n",
    "# C是正则化参数，数值越大正则化强度越小\n",
    "# 正则化参数是用来防止过度拟合的\n",
    "# 这里使用一个较大的参数值减弱正则化，以便显示原始结果\n",
    "linear_svm = svm.SVC(kernel='linear', C=1e5)\n",
    "# 高斯核的带宽参数是gamma\n",
    "rbf_svm = svm.SVC(kernel='rbf', C=1e5, gamma=1)\n",
    "svm_models = [linear_svm, rbf_svm]\n",
    "for model in svm_models:\n",
    "    model.fit(X, Y)\n",
    "\n",
    "# 分别绘制两个支持向量机的决策边界\n",
    "xx, yy = numpy.meshgrid(\n",
    "    numpy.arange(X[:,0].min()-0.5,X[:,0].max()+0.5,0.1),\n",
    "    numpy.arange(X[:,1].min()-0.5,X[:,1].max()+0.5,0.1))\n",
    "input = numpy.concatenate(\n",
    "    (xx.reshape((-1,1)), yy.reshape((-1,1))), axis=1)\n",
    "for model in svm_models:\n",
    "    z = model.predict(input)\n",
    "    z = z.reshape(xx.shape) \n",
    "    fig = plt.figure(figsize=(4, 3))\n",
    "    plt.pcolormesh(xx, yy, z, cmap=plt.cm.Paired, shading='auto')\n",
    "    # 绘制样本点\n",
    "    for i in range(2):\n",
    "        index = Y == i\n",
    "        mark = 'kx' if i == 0 else 'k+'\n",
    "        plt.plot(X[index,0], X[index,1], mark)\n",
    "    # 绘制支持向量\n",
    "    support = model.support_vectors_\n",
    "    plt.scatter(support[:,0], support[:,1], c='y', edgecolors='k')\n",
    "    plt.show()"
   ]
  }
 ],
 "metadata": {
  "kernelspec": {
   "display_name": "Python 3 (ipykernel)",
   "language": "python",
   "name": "python3"
  },
  "language_info": {
   "codemirror_mode": {
    "name": "ipython",
    "version": 3
   },
   "file_extension": ".py",
   "mimetype": "text/x-python",
   "name": "python",
   "nbconvert_exporter": "python",
   "pygments_lexer": "ipython3",
   "version": "3.8.9"
  }
 },
 "nbformat": 4,
 "nbformat_minor": 5
}
