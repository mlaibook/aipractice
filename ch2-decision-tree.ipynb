{
 "cells": [
  {
   "cell_type": "markdown",
   "id": "cd4796ae",
   "metadata": {},
   "source": [
    "# 决策树"
   ]
  },
  {
   "cell_type": "code",
   "execution_count": 1,
   "id": "eea15e00",
   "metadata": {},
   "outputs": [
    {
     "name": "stdout",
     "output_type": "stream",
     "text": [
      "1.0\n",
      "0.6500224216483541\n",
      "0\n"
     ]
    }
   ],
   "source": [
    "import math\n",
    "\n",
    "# 计算概率为x的随机事件的熵\n",
    "def h(x):\n",
    "    if x >= 1 or x <= 0: return 0\n",
    "    return -x * math.log2(x)\n",
    "\n",
    "# 计算包含0和1两个类别的数据集的熵\n",
    "def data_entropy(labels):\n",
    "    if len(labels) < 1: return 0\n",
    "    # 计算正样本比例\n",
    "    p = sum(labels) / len(labels)\n",
    "    # 计算负样本数量\n",
    "    n = 1 - p\n",
    "    return h(p) + h(n)\n",
    "\n",
    "print(data_entropy([0,0,0,1,1,1]))\n",
    "# 输出1，表示熵最高，数据集中正负样本参半，纯度低\n",
    "print(data_entropy([0,1,1,1,1,1]))\n",
    "# 输出0.65，比上面的数据集要单纯一些\n",
    "print(data_entropy([0,0,0,0,0,0]))\n",
    "# 输出0，表示熵最低，最为纯粹的数据集，只包含单一类别的样本\n"
   ]
  },
  {
   "cell_type": "code",
   "execution_count": 2,
   "id": "d5dff645",
   "metadata": {},
   "outputs": [
    {
     "name": "stdout",
     "output_type": "stream",
     "text": [
      "0.8380423950607804\n"
     ]
    }
   ],
   "source": [
    "import numpy\n",
    "\n",
    "# 每一行的5个元素分别表示\n",
    "# 天气观感（晴、阴、雨），温度，湿度，风力和是否运动\n",
    "weather_data = numpy.array([[0,0,0,0,0],[0,0,0,1,0],[0,1,0,0,0],\n",
    "    [0,2,1,0,1],[0,1,1,1,1],[1,0,0,0,1],[1,2,1,1,1],\n",
    "    [1,1,0,1,1],[1,0,1,0,1],[2,1,0,0,1],[2,2,1,0,1],\n",
    "    [2,2,1,1,0],[2,1,1,0,1],[2,1,0,1,0]])\n",
    "\n",
    "# 计算某个划分的熵\n",
    "# 输入是数据集、划分选取的属性和属性值\n",
    "# 输出是熵和分割出的两个数据集\n",
    "def split_entropy(data, property_id, property_value):\n",
    "    # 选取property_id这一列与property_value进行比较\n",
    "    left_index = data[:, property_id] == property_value\n",
    "    right_index = data[:, property_id] != property_value\n",
    "    # 根据比较结果选取分支两侧的数据子集\n",
    "    left_data = data[left_index, :]\n",
    "    right_data = data[right_index, :]\n",
    "    # 取数据子集的最后一列，即类标签列，计算子集的熵\n",
    "    left_entropy = data_entropy(left_data[:,-1])\n",
    "    right_entropy = data_entropy(right_data[:,-1])\n",
    "    # 计算分割后两个子集的加权平均熵\n",
    "    split_entropy = (left_data.shape[0] * left_entropy + right_data.shape[0] * right_entropy) / data.shape[0]\n",
    "    return split_entropy, left_data, right_data\n",
    "\n",
    "print(split_entropy(weather_data, 0, 0)[0])\n",
    "# 输出0.838，用天气观感晴作为划分条件，分割得到的两个数据集的平均熵是0.838"
   ]
  },
  {
   "cell_type": "code",
   "execution_count": 3,
   "id": "35357d1c",
   "metadata": {},
   "outputs": [
    {
     "name": "stdout",
     "output_type": "stream",
     "text": [
      "entropy=0.7142857142857143 property_id=0, property_value=1\n"
     ]
    }
   ],
   "source": [
    "# 选择划分的函数\n",
    "# 输入是数据集，输出是划分后的熵、选取的属性和属性值，划分后的数据子集\n",
    "def find_split(data):\n",
    "    min_entropy = None\n",
    "    best_split_property_id = None\n",
    "    best_split_property_value = None\n",
    "    best_split_left = None\n",
    "    best_split_right = None\n",
    "    # 枚举有所属性\n",
    "    for index in range(data.shape[1] - 1):\n",
    "        # 获取该属性的可能取值\n",
    "        unique_values = numpy.unique(data[:,index])\n",
    "        if len(unique_values) < 2: continue\n",
    "        # 枚举属性可能划分（划分比取值数量少1）\n",
    "        for value in unique_values[0:-1]:\n",
    "            entropy, left, right = split_entropy(data, index, value)\n",
    "            if min_entropy is None or min_entropy > entropy:\n",
    "                min_entropy = entropy\n",
    "                best_split_property_id = index\n",
    "                best_split_property_value = value\n",
    "                best_split_left = left\n",
    "                best_split_right = right\n",
    "    return min_entropy, best_split_property_id, best_split_property_value, best_split_left, best_split_right\n",
    "\n",
    "split = find_split(weather_data)\n",
    "print('entropy={0} property_id={1}, property_value={2}'.format(\n",
    "    split[0], split[1], split[2]))\n",
    "# 输出：\n",
    "# entropy=0.714... property_id=0, property_value=1"
   ]
  },
  {
   "cell_type": "code",
   "execution_count": 4,
   "id": "047c1fb4",
   "metadata": {},
   "outputs": [
    {
     "name": "stdout",
     "output_type": "stream",
     "text": [
      "property0 value=1\n",
      "  class=1\n",
      "  property2 value=0\n",
      "    property0 value=0\n",
      "      class=0\n",
      "      property3 value=0\n",
      "        class=1\n",
      "        class=0\n",
      "    property3 value=0\n",
      "      class=1\n",
      "      property0 value=0\n",
      "        class=1\n",
      "        class=0\n"
     ]
    }
   ],
   "source": [
    "# 构造并打印决策树\n",
    "# 输入参数是数据集和控制缩进用的空白\n",
    "def build_decision_tree(data, tabspace):\n",
    "    class_count = len(numpy.unique(data[:,-1]))\n",
    "    # 如果数据集包含不同类别，就进行划分\n",
    "    if class_count > 1:\n",
    "        split = find_split(data)\n",
    "    else:\n",
    "        split = [None]\n",
    "    # 如果无法划分，则到达决策树的叶节点\n",
    "    if split[0] is None:\n",
    "        print('{0}class={1}'.format(tabspace, data[0,-1]))\n",
    "        return\n",
    "    # 如果划分成功，递归的划分左右子树\n",
    "    print('{0}property{1} value={2}'.format(tabspace, split[1], split[2]))\n",
    "    build_decision_tree(split[3], tabspace + '  ')\n",
    "    build_decision_tree(split[4], tabspace + '  ')\n",
    "\n",
    "build_decision_tree(weather_data, '')"
   ]
  },
  {
   "cell_type": "code",
   "execution_count": 9,
   "id": "8a6a6fa7",
   "metadata": {},
   "outputs": [
    {
     "name": "stdout",
     "output_type": "stream",
     "text": [
      "[0]\n"
     ]
    },
    {
     "data": {
      "text/plain": [
       "[Text(148.8, 195.696, 'X[2] <= 0.5\\ngini = 0.459\\nsamples = 14\\nvalue = [5, 9]'),\n",
       " Text(74.4, 152.208, 'X[0] <= 0.5\\ngini = 0.49\\nsamples = 7\\nvalue = [4, 3]'),\n",
       " Text(37.2, 108.72, 'gini = 0.0\\nsamples = 3\\nvalue = [3, 0]'),\n",
       " Text(111.60000000000001, 108.72, 'X[0] <= 1.5\\ngini = 0.375\\nsamples = 4\\nvalue = [1, 3]'),\n",
       " Text(74.4, 65.232, 'gini = 0.0\\nsamples = 2\\nvalue = [0, 2]'),\n",
       " Text(148.8, 65.232, 'X[3] <= 0.5\\ngini = 0.5\\nsamples = 2\\nvalue = [1, 1]'),\n",
       " Text(111.60000000000001, 21.744, 'gini = 0.0\\nsamples = 1\\nvalue = [0, 1]'),\n",
       " Text(186.0, 21.744, 'gini = 0.0\\nsamples = 1\\nvalue = [1, 0]'),\n",
       " Text(223.20000000000002, 152.208, 'X[3] <= 0.5\\ngini = 0.245\\nsamples = 7\\nvalue = [1, 6]'),\n",
       " Text(186.0, 108.72, 'gini = 0.0\\nsamples = 4\\nvalue = [0, 4]'),\n",
       " Text(260.40000000000003, 108.72, 'X[0] <= 1.5\\ngini = 0.444\\nsamples = 3\\nvalue = [1, 2]'),\n",
       " Text(223.20000000000002, 65.232, 'gini = 0.0\\nsamples = 2\\nvalue = [0, 2]'),\n",
       " Text(297.6, 65.232, 'gini = 0.0\\nsamples = 1\\nvalue = [1, 0]')]"
      ]
     },
     "execution_count": 9,
     "metadata": {},
     "output_type": "execute_result"
    },
    {
     "data": {
      "image/png": "[encoded data removed]",
      "text/plain": [
       "<Figure size 432x288 with 1 Axes>"
      ]
     },
     "metadata": {
      "needs_background": "light"
     },
     "output_type": "display_data"
    }
   ],
   "source": [
    "from sklearn import tree\n",
    "from IPython.display import display\n",
    "\n",
    "X = weather_data[:,0:-1]\n",
    "Y = weather_data[:,-1]\n",
    "clf = tree.DecisionTreeClassifier()\n",
    "# 用数据构造决策树\n",
    "clf.fit(X, Y)\n",
    "\n",
    "# 用决策树进行分类\n",
    "result = clf.predict([[0,0,0,0]])\n",
    "print(result)\n",
    "# 输出：[0] 表示不适合运动\n",
    "\n",
    "# 将决策树的结构可视化\n",
    "tree.plot_tree(clf)"
   ]
  }
 ],
 "metadata": {
  "kernelspec": {
   "display_name": "Python 3 (ipykernel)",
   "language": "python",
   "name": "python3"
  },
  "language_info": {
   "codemirror_mode": {
    "name": "ipython",
    "version": 3
   },
   "file_extension": ".py",
   "mimetype": "text/x-python",
   "name": "python",
   "nbconvert_exporter": "python",
   "pygments_lexer": "ipython3",
   "version": "3.8.9"
  }
 },
 "nbformat": 4,
 "nbformat_minor": 5
}
