{
 "cells": [
  {
   "cell_type": "markdown",
   "id": "5137d690",
   "metadata": {},
   "source": [
    "# 集成学习"
   ]
  },
  {
   "cell_type": "code",
   "execution_count": 1,
   "id": "d691c0c9",
   "metadata": {},
   "outputs": [
    {
     "name": "stdout",
     "output_type": "stream",
     "text": [
      "<class 'pandas.core.frame.DataFrame'>\n",
      "RangeIndex: 891 entries, 0 to 890\n",
      "Data columns (total 12 columns):\n",
      " #   Column       Non-Null Count  Dtype  \n",
      "---  ------       --------------  -----  \n",
      " 0   PassengerId  891 non-null    int64  \n",
      " 1   Survived     891 non-null    int64  \n",
      " 2   Pclass       891 non-null    int64  \n",
      " 3   Name         891 non-null    object \n",
      " 4   Sex          891 non-null    object \n",
      " 5   Age          714 non-null    float64\n",
      " 6   SibSp        891 non-null    int64  \n",
      " 7   Parch        891 non-null    int64  \n",
      " 8   Ticket       891 non-null    object \n",
      " 9   Fare         891 non-null    float64\n",
      " 10  Cabin        204 non-null    object \n",
      " 11  Embarked     889 non-null    object \n",
      "dtypes: float64(2), int64(5), object(5)\n",
      "memory usage: 83.7+ KB\n"
     ]
    },
    {
     "data": {
      "text/plain": [
       "<AxesSubplot:>"
      ]
     },
     "execution_count": 1,
     "metadata": {},
     "output_type": "execute_result"
    },
    {
     "data": {
      "image/png": "[encoded data removed]",
      "text/plain": [
       "<Figure size 432x288 with 1 Axes>"
      ]
     },
     "metadata": {
      "needs_background": "light"
     },
     "output_type": "display_data"
    }
   ],
   "source": [
    "import pandas\n",
    "import matplotlib.pyplot as plt\n",
    "\n",
    "# 读取CSV格式的数据集\n",
    "train = pandas.read_csv('data/titanic-train.csv')\n",
    "test = pandas.read_csv('data/titanic-test.csv')\n",
    "\n",
    "# 设置显示精度\n",
    "pandas.set_option(\"display.precision\", 2)\n",
    "\n",
    "# 列出数据各列名字和类型\n",
    "train.info()\n",
    "\n",
    "# 描述整个数据集的数值变量分布\n",
    "train.describe()\n",
    "# 选择显示部分列的数值分布\n",
    "train[['Age','Fare']].describe()\n",
    "# 显示字符串类型的数据分布\n",
    "train.describe(include=['O'])\n",
    "# 绘制数值分布直方图\n",
    "train['Age'].hist()"
   ]
  },
  {
   "cell_type": "code",
   "execution_count": 2,
   "id": "ebf73973",
   "metadata": {},
   "outputs": [
    {
     "name": "stdout",
     "output_type": "stream",
     "text": [
      "随机森林 训练集准确度 0.979\n",
      "AdaBoost 训练集准确度 0.846\n",
      "梯度提升算法 训练集准确度 0.897\n"
     ]
    }
   ],
   "source": [
    "import numpy\n",
    "\n",
    "def extract_input(df):\n",
    "    # 将枚举值转化为独热(one-hot)的多列数值\n",
    "    sex = df['Sex'].str.get_dummies().values\n",
    "    embark = df['Embarked'].str.get_dummies().values\n",
    "    # 用中位数填补确实的数值\n",
    "    age = numpy.reshape(df['Age'].fillna(28).values, [-1, 1])\n",
    "    fare = numpy.reshape(df['Fare'].fillna(14.45).values, [-1, 1])\n",
    "    # 提取其他数据完整的数值类型\n",
    "    other = df[['Pclass', 'SibSp', 'Parch']].values\n",
    "    # 组织成训练数据\n",
    "    x = numpy.concatenate((sex, age, fare, embark, other), axis=1)\n",
    "    return x\n",
    "\n",
    "X = extract_input(train)\n",
    "Y = train['Survived'].values\n",
    "\n",
    "from sklearn.ensemble import RandomForestClassifier\n",
    "from sklearn.ensemble import AdaBoostClassifier\n",
    "from sklearn.ensemble import GradientBoostingClassifier\n",
    "\n",
    "classifiers = (\n",
    "    ('随机森林', RandomForestClassifier(), 'test-result-rf.csv'),\n",
    "    ('AdaBoost', AdaBoostClassifier(n_estimators=100), 'test-result-adaboost.csv'),\n",
    "    ('梯度提升算法', GradientBoostingClassifier(), 'test-result-gbt.csv'),\n",
    ")\n",
    "\n",
    "for (name, clf, result_name) in classifiers:\n",
    "    clf.fit(X, Y)\n",
    "    score = clf.score(X, Y)\n",
    "    print('{0} 训练集准确度 {1:.3f}'.format(name, score))\n",
    "    # 读取测试数据\n",
    "    X_test = extract_input(test)\n",
    "    # 进行预测\n",
    "    Y_test = clf.predict(X_test)\n",
    "    # 保存预测结果文件\n",
    "    pid = test['PassengerId']\n",
    "    result = pandas.DataFrame({'Survived': Y_test})\n",
    "    result = pandas.concat([pid, result], axis=1)\n",
    "    result.to_csv(result_name, index=False)"
   ]
  }
 ],
 "metadata": {
  "kernelspec": {
   "display_name": "Python 3 (ipykernel)",
   "language": "python",
   "name": "python3"
  },
  "language_info": {
   "codemirror_mode": {
    "name": "ipython",
    "version": 3
   },
   "file_extension": ".py",
   "mimetype": "text/x-python",
   "name": "python",
   "nbconvert_exporter": "python",
   "pygments_lexer": "ipython3",
   "version": "3.8.9"
  }
 },
 "nbformat": 4,
 "nbformat_minor": 5
}
