{
 "cells": [
  {
   "cell_type": "markdown",
   "id": "6e79e703",
   "metadata": {},
   "source": [
    "# 人工神经网络"
   ]
  },
  {
   "cell_type": "code",
   "execution_count": 1,
   "id": "7eda7e5a",
   "metadata": {},
   "outputs": [
    {
     "data": {
      "image/png": "[encoded data removed]",
      "text/plain": [
       "<Figure size 388.8x72 with 5 Axes>"
      ]
     },
     "metadata": {
      "needs_background": "light"
     },
     "output_type": "display_data"
    }
   ],
   "source": [
    "import numpy\n",
    "import matplotlib.pyplot as plt\n",
    "\n",
    "# 读取图像，取三个颜色通道中的一个\n",
    "img = plt.imread('data/test128.jpg')\n",
    "img = img[:,:,0]\n",
    "\n",
    "# 准备卷积核\n",
    "kernels = [\n",
    "    numpy.array([[-1,0,1],[-1,0,1],[-1,0,1]]),\n",
    "    numpy.array([[-1,-1,-1],[0,0,0],[1,1,1]]),\n",
    "    numpy.array([[1,-2,-2],[1,1,-2],[1,1,1]]),\n",
    "    numpy.array([[1,1,1],[1,1,-2],[1,-2,-2]])]\n",
    "\n",
    "fig = plt.figure(figsize=(5.4,1))\n",
    "\n",
    "# 绘制原图像和卷积结果\n",
    "for i in range(5):\n",
    "    plt.subplot(1, 5, i+1)\n",
    "    # 绘制原图像\n",
    "    if i == 0:\n",
    "        plt.imshow(img, cmap=plt.cm.gray)\n",
    "        plt.axis('off')\n",
    "        continue\n",
    "    # 计算卷积，对于n*n的卷积核，卷积结果比原图行列各少n-1\n",
    "    kernel = kernels[i-1]\n",
    "    conv = numpy.zeros((img.shape[0]-2,img.shape[1]-2))\n",
    "    for x in range(conv.shape[1]):\n",
    "        for y in range(conv.shape[0]):\n",
    "            # 截取原图中对应位置与卷积核大小相同的块\n",
    "            clip = img[y:y+3,x:x+3]\n",
    "            # 图像块与卷积核对应元素相乘然后求和\n",
    "            conv[y,x] = numpy.sum(clip * kernel)\n",
    "    # 显示卷积结果\n",
    "    plt.imshow(conv, cmap=plt.cm.RdBu)\n",
    "    plt.axis('off')\n"
   ]
  },
  {
   "cell_type": "code",
   "execution_count": 3,
   "id": "c3986fe6",
   "metadata": {},
   "outputs": [
    {
     "name": "stdout",
     "output_type": "stream",
     "text": [
      "tensor([[-0.0028, -0.1338,  0.1795, -0.0525, -0.0171,  0.0581, -0.0580, -0.0060,\n",
      "         -0.0426, -0.1858]], grad_fn=<AddmmBackward>)\n"
     ]
    }
   ],
   "source": [
    "import torch\n",
    "import torch.nn as nn\n",
    "import torch.nn.functional as F\n",
    "\n",
    "class MnistNet(nn.Module):\n",
    "    def __init__(self):\n",
    "        super(MnistNet, self).__init__()\n",
    "        # 在构造函数中定义组成网络的单元\n",
    "        # 定义二维卷积层，输入通道1个，输出通道8个，也就是8个卷积核\n",
    "        # 每个卷积核大小为3，输入各边补齐1行（或列），以便输出尺寸与输入一致\n",
    "        self.conv1 = nn.Conv2d(1, 8, kernel_size=3, padding=1)\n",
    "        # 第二个卷积层输入通道为8个，即上一层的输出\n",
    "        # 这一层的输出通道为16个，也就是16个卷积核\n",
    "        self.conv2 = nn.Conv2d(8, 16, kernel_size=3, padding=1)\n",
    "        # 定义全连接层\n",
    "        self.fc1 = nn.Linear(7*7*16, 64)\n",
    "        self.fc2 = nn.Linear(64, 10)\n",
    "    def forward(self, x):\n",
    "        # 每个卷积层使用ReLU激活函数\n",
    "        # 并使用Max Pooling进行压缩\n",
    "        x = F.max_pool2d(F.relu(self.conv1(x)), 2)\n",
    "        x = F.max_pool2d(F.relu(self.conv2(x)), 2)\n",
    "        # 将卷积层的输出拉平为长度为7*7*16的向量\n",
    "        # 作为全连接层的输入\n",
    "        x = x.view(-1, 7*7*16)\n",
    "        x = F.relu(self.fc1(x))\n",
    "        return self.fc2(x)\n",
    "\n",
    "# 构造测试输入，第一维是样本编号，第二维是通道编号\n",
    "# 这个输入包含一个样本，一个通道\n",
    "x = torch.rand((1, 1, 28, 28))\n",
    "net = MnistNet()\n",
    "y = net(x)\n",
    "# 输出一个1*10的张量\n",
    "print(y)"
   ]
  },
  {
   "cell_type": "code",
   "execution_count": 5,
   "id": "42f8334b",
   "metadata": {},
   "outputs": [
    {
     "name": "stdout",
     "output_type": "stream",
     "text": [
      "torch.Size([10, 1, 28, 28])\n",
      "torch.Size([10])\n"
     ]
    }
   ],
   "source": [
    "import torch\n",
    "import torchvision\n",
    "\n",
    "# 由于数据集是图片，需要将图片转化为张量\n",
    "# 然后进行归一化，将像素值调整到适合训练的范围\n",
    "# 下面的数据变换完成这两个操作\n",
    "data_transform = torchvision.transforms.Compose([\n",
    "    torchvision.transforms.ToTensor(),\n",
    "    torchvision.transforms.Normalize(mean=[0.5], std=[0.5])])\n",
    "\n",
    "# 下载MNIST数据集\n",
    "# 将数据集保存在下面的路径\n",
    "data_path = 'data'\n",
    "# 数据集包含训练集和测试集两部分数据\n",
    "train_data = torchvision.datasets.MNIST('data', train=True, transform=data_transform, download=True)\n",
    "test_data = torchvision.datasets.MNIST('data', train=False, transform=data_transform)\n",
    "\n",
    "# 从数据集构造加载器\n",
    "# 加载器每批次提取10个样本\n",
    "# 乱序加载样本避免顺序相关性\n",
    "train_loader = torch.utils.data.DataLoader(train_data, batch_size=10, shuffle=True)\n",
    "test_loader = torch.utils.data.DataLoader(test_data, batch_size=10, shuffle=True)\n",
    "\n",
    "# 实验一下，读取第一批样本\n",
    "train_input, labels = next(iter(train_loader))\n",
    "print(train_input.shape)\n",
    "# 输入的尺寸为10*1*28*28，包含10个样本\n",
    "print(labels.shape)\n",
    "# 目标输出的尺寸为10，包含10个标签"
   ]
  },
  {
   "cell_type": "code",
   "execution_count": 6,
   "id": "1ede7f1e",
   "metadata": {},
   "outputs": [
    {
     "name": "stdout",
     "output_type": "stream",
     "text": [
      "cpu\n"
     ]
    }
   ],
   "source": [
    "# 开始训练之前，选择使用的计算设备\n",
    "# 默认是CPU，如果检测到了GPU，那么可以使用GPU加速计算\n",
    "device = torch.device(\"cuda:0\" if torch.cuda.is_available() else \"cpu\")\n",
    "print(device)"
   ]
  },
  {
   "cell_type": "code",
   "execution_count": 7,
   "id": "a3f32878",
   "metadata": {},
   "outputs": [
    {
     "name": "stdout",
     "output_type": "stream",
     "text": [
      "0 训练误差：2.2540 测试误差：2.2609\n",
      "1000 训练误差：2.2746 测试误差：2.2708\n",
      "2000 训练误差：2.2162 测试误差：2.1887\n",
      "3000 训练误差：1.9029 测试误差：1.9488\n",
      "4000 训练误差：1.4062 测试误差：0.8202\n",
      "5000 训练误差：0.7378 测试误差：0.7470\n",
      "0 训练误差：1.0060 测试误差：0.6080\n",
      "1000 训练误差：1.2726 测试误差：0.4931\n",
      "2000 训练误差：0.1927 测试误差：0.5112\n",
      "3000 训练误差：0.3592 测试误差：0.2315\n",
      "4000 训练误差：0.0983 测试误差：0.0739\n",
      "5000 训练误差：0.8057 测试误差：0.8153\n",
      "0 训练误差：0.9665 测试误差：0.1562\n",
      "1000 训练误差：0.0606 测试误差：0.1751\n",
      "2000 训练误差：0.7754 测试误差：0.0826\n",
      "3000 训练误差：0.2180 测试误差：0.1164\n",
      "4000 训练误差：0.2437 测试误差：0.3717\n",
      "5000 训练误差：0.2441 测试误差：0.2372\n"
     ]
    }
   ],
   "source": [
    "# 准备网络模型\n",
    "net = MnistNet()\n",
    "# 将网络模型放在计算设备上，如果使用CPU可以忽略这一步\n",
    "net = net.to(device)\n",
    "# 准备交叉熵损失函数\n",
    "loss_func = torch.nn.CrossEntropyLoss()\n",
    "# 准备随机梯度下降优化器，设置学习率为0.01\n",
    "optimizer = torch.optim.SGD(net.parameters(), 0.001)\n",
    "\n",
    "# %%\n",
    "# 设置训练循环次数\n",
    "epochs = 3\n",
    "for i in range(epochs):\n",
    "    # 枚举训练集中的数据\n",
    "    for index, (train_input, labels) in enumerate(train_loader):\n",
    "        # 将网络置于训练状态\n",
    "        # 某些层在训练和测试时行为不同，比如批归一化层和Dropout层\n",
    "        net.train(True)\n",
    "        # 将数据放在计算设备上\n",
    "        # 如果使用的是CPU，可以忽略这个步骤\n",
    "        train_input = train_input.to(device)\n",
    "        labels = labels.to(device)\n",
    "        # 计算输出\n",
    "        output = net(train_input)\n",
    "        # 计算误差\n",
    "        loss = loss_func(output, labels)\n",
    "        # 清空优化器，计算梯度\n",
    "        optimizer.zero_grad()\n",
    "        loss.backward()\n",
    "        # 用梯度优化模型\n",
    "        optimizer.step()\n",
    "        # 每训练一段时间观察测试误差\n",
    "        # 如果观察到测试误差不再继续降低或者训练误差开始低于测试误差\n",
    "        # 说明开始出现过拟合，应该停止训练\n",
    "        if index % 1000 == 0:\n",
    "            # 将网络置于测试状态\n",
    "            net.train(False)\n",
    "            test_input, test_labels = next(iter(test_loader))\n",
    "            test_output = net(test_input)\n",
    "            test_loss = loss_func(test_output, test_labels)\n",
    "            # 输出训练误差和测试误差\n",
    "            print('{0} 训练误差：{1:.4f} 测试误差：{2:.4f}'.format(\n",
    "                index, loss.item(), test_loss.item()))"
   ]
  }
 ],
 "metadata": {
  "kernelspec": {
   "display_name": "Python 3 (ipykernel)",
   "language": "python",
   "name": "python3"
  },
  "language_info": {
   "codemirror_mode": {
    "name": "ipython",
    "version": 3
   },
   "file_extension": ".py",
   "mimetype": "text/x-python",
   "name": "python",
   "nbconvert_exporter": "python",
   "pygments_lexer": "ipython3",
   "version": "3.8.9"
  }
 },
 "nbformat": 4,
 "nbformat_minor": 5
}
